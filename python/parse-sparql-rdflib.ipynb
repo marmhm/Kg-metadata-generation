{
 "cells": [
  {
   "cell_type": "markdown",
   "id": "fa28e6e1",
   "metadata": {},
   "source": [
    "You can use a JSON viewer to help visualizing a SPARQL query parsed: http://jsonviewer.stack.hu/\n",
    "\n",
    "Documentation to parse SPARQL queries with RDFLib: https://rdflib.readthedocs.io/en/stable/_modules/rdflib/plugins/sparql/parser.html"
   ]
  },
  {
   "cell_type": "code",
   "execution_count": 26,
   "id": "8f4bbdbf",
   "metadata": {},
   "outputs": [
    {
     "name": "stdout",
     "output_type": "stream",
     "text": [
      "CONSTRUCT { ?s ?p ?o . } WHERE { SERVICE <http://bio2rdf.org/sparql> { ?s ?p ?o . } } LIMIT 1\n",
      "\n",
      "\n",
      "SELECT DISTINCT ?prefix WHERE { { SELECT DISTINCT ?p WHERE { ?s ?p ?o . } } . BIND(IF(CONTAINS(STR(?p), \"#\"), REPLACE(STR(?p), \"#[^#]*$\", \"#\"), REPLACE(STR(?p), \"/[^/]*$\", \"/\")) AS ?prefix) }\n",
      "\n",
      "\n"
     ]
    }
   ],
   "source": [
    "import pandas as pd\n",
    "import os\n",
    "\n",
    "# print(os.system('pwd'))\n",
    "# print(os.system('ls'))\n",
    "\n",
    "# df = pd.read_csv('/home/jovyan/work/graphsummary/sample.csv')\n",
    "\n",
    "df = pd.read_csv('sample.csv')\n",
    "\n",
    "count = 0\n",
    "for index, row in df.iterrows():\n",
    "    query = row['query']\n",
    "    count += 1\n",
    "    print(row['query'])\n",
    "    print('\\n')\n",
    "    if count >= 2: break"
   ]
  },
  {
   "cell_type": "code",
   "execution_count": 54,
   "id": "2fedcd5a",
   "metadata": {},
   "outputs": [
    {
     "name": "stdout",
     "output_type": "stream",
     "text": [
      "SelectQuery_SelectQuery_{'p': Project_{'p': Extend_{'p': Filter_{'expr': RelationalExpression_{'expr': rdflib.term.Variable('__agg_2__'), 'op': '>', 'other': rdflib.term.Literal('10', datatype=rdflib.term.URIRef('http://www.w3.org/2001/XMLSchema#integer')), '_vars': set()}, 'p': AggregateJoin_{'A': [Aggregate_Avg_{'distinct': [], 'vars': rdflib.term.Variable('size'), 'res': rdflib.term.Variable('__agg_1__'), '_vars': {rdflib.term.Variable('size'), rdflib.term.Variable('__agg_1__')}}, Aggregate_Avg_{'distinct': [], 'vars': rdflib.term.Variable('size'), 'res': rdflib.term.Variable('__agg_2__'), '_vars': {rdflib.term.Variable('size'), rdflib.term.Variable('__agg_2__')}}], 'p': Group_{'p': BGP_{'triples': [(rdflib.term.Variable('x'), rdflib.term.URIRef('http://data.example/size'), rdflib.term.Variable('size'))], '_vars': {rdflib.term.Variable('x'), rdflib.term.Variable('size')}}, 'expr': [rdflib.term.Variable('x')], '_vars': {rdflib.term.Variable('x'), rdflib.term.Variable('size')}}, '_vars': {rdflib.term.Variable('x'), rdflib.term.Variable('__agg_2__'), rdflib.term.Variable('size'), rdflib.term.Variable('__agg_1__')}}, '_vars': {rdflib.term.Variable('x'), rdflib.term.Variable('__agg_2__'), rdflib.term.Variable('size'), rdflib.term.Variable('__agg_1__')}}, 'expr': rdflib.term.Variable('__agg_1__'), 'var': rdflib.term.Variable('asize'), '_vars': {rdflib.term.Variable('x'), rdflib.term.Variable('__agg_2__'), rdflib.term.Variable('asize'), rdflib.term.Variable('__agg_1__'), rdflib.term.Variable('size')}}, 'PV': [rdflib.term.Variable('asize')], '_vars': {rdflib.term.Variable('x'), rdflib.term.Variable('__agg_2__'), rdflib.term.Variable('asize'), rdflib.term.Variable('__agg_1__'), rdflib.term.Variable('size')}}, 'datasetClause': None, 'PV': [rdflib.term.Variable('asize')], '_vars': {rdflib.term.Variable('x'), rdflib.term.Variable('__agg_2__'), rdflib.term.Variable('asize'), rdflib.term.Variable('__agg_1__'), rdflib.term.Variable('size')}}\n"
     ]
    }
   ],
   "source": [
    "from rdflib.plugins.sparql.parser import Query, UpdateUnit\n",
    "from rdflib.plugins.sparql.processor import translateQuery\n",
    "from rdflib import URIRef, Variable\n",
    "# query_string = 'SELECT * WHERE { ?s ?p ?o . ?s a ?type. ?s ?p ?o  . FILTER(?type = <http://ohoho>) . } LIMIT 14'\n",
    "# query_string = 'SELECT * WHERE { ?s ?p ?o . ?s a <https://schema.org/Drug> .} LIMIT 14'\n",
    "# query_string=\"SELECT DISTINCT  ?o ?p2 WHERE{ ?s ?p ?o OPTIONAL{ <http://nonsensical.com/1/1583905344087> ?p2 ?o} }LIMIT   1000\"\n",
    "\n",
    "# query_string = 'SELECT ?var1  ?var1Label WHERE {  ?var1  <http://www.wikidata.org/prop/direct/P31>  <http://www.wikidata.org/entity/Q4423781> . ?var1 <http://www.w3.org/2000/01/rdf-schema#label>  ?var1Label . FILTER (  ( (  LANG (  ?var1Label  )  =  \"ru\" ) ) ) .}'\n",
    "\n",
    "# query_string = \"\"\"SELECT ?var1  ?var1Label WHERE { \n",
    "#     graph ?g {  \n",
    "#         ?var1 <http://www.wikidata.org/prop/direct/P31> <http://www.wikidata.org/entity/Q4423781> .\n",
    "#         ?var1 <http://www.w3.org/2000/01/rdf-schema#label>  ?var1Label .\n",
    "#         FILTER (  ( (  LANG (  ?var1Label  )  =  \"ru\" ) ) ) .\n",
    "#     }\n",
    "# }\n",
    "# \"\"\"\n",
    "# query_string = \"\"\"\n",
    "# PREFIX : <http://data.example/>\n",
    "# SELECT (AVG(?size) AS ?asize)\n",
    "# WHERE {\n",
    "#   ?x :size ?size\n",
    "# }\n",
    "# GROUP BY ?x\n",
    "# HAVING(AVG(?size) > 10)\"\"\"\n",
    "# query_string = \"\"\"SELECT ?it1 ?st1 ?p01 ?p11 ?p21 ?x31 ?p31 ?p32\\nWHERE {?it1 ?st1 <http://bio2rdf.org/go:0060071> . <http://bio2rdf.org/omim_vocabulary:Gene> ?p01 ?it1 . <http://bio2rdf.org/drugbank_resource:d3aed67dcf42ab8998e7ac11837910ba> ?p11 <http://bio2rdf.org/omim_vocabulary:Gene> . <http://bio2rdf.org/drugbank_resource:d3aed67dcf42ab8998e7ac11837910ba> ?p21 <http://bio2rdf.org/drugbank_vocabulary:drug> . ?x31 ?p31 <http://bio2rdf.org/drugbank_vocabulary:drug> . ?x31 ?p32 <http://bio2rdf.org/omim_resource:aa2721c8b2d3d6c5f3b040fa1a98ecc9> . FILTER (isIRI(?it1) && isIRI(?x31)) FILTER (?it1 != ?x31) FILTER (str(?p01) NOT IN (\"http://rdfs.org/ns/void#inDataset\", \"http://bio2rdf.org/omim_vocabulary:refers-to\", \"http://bio2rdf.org/omim_vocabulary:article\", \"http://bio2rdf.org/omim_vocabulary:mapping-method\", \"http://www.w3.org/1999/02/22-rdf-syntax-ns#type\", \"http://www.w3.org/2000/01/rdf-schema#subClassOf\")) FILTER (str(?p11) NOT IN (\"http://rdfs.org/ns/void#inDataset\", \"http://bio2rdf.org/omim_vocabulary:refers-to\", \"http://bio2rdf.org/omim_vocabulary:article\", \"http://bio2rdf.org/omim_vocabulary:mapping-method\", \"http://www.w3.org/1999/02/22-rdf-syntax-ns#type\", \"http://www.w3.org/2000/01/rdf-schema#subClassOf\")) FILTER (str(?p21) NOT IN (\"http://rdfs.org/ns/void#inDataset\", \"http://bio2rdf.org/omim_vocabulary:refers-to\", \"http://bio2rdf.org/omim_vocabulary:article\", \"http://bio2rdf.org/omim_vocabulary:mapping-method\", \"http://www.w3.org/1999/02/22-rdf-syntax-ns#type\", \"http://www.w3.org/2000/01/rdf-schema#subClassOf\")) FILTER (str(?p31) NOT IN (\"http://rdfs.org/ns/void#inDataset\", \"http://bio2rdf.org/omim_vocabulary:refers-to\", \"http://bio2rdf.org/omim_vocabulary:article\", \"http://bio2rdf.org/omim_vocabulary:mapping-method\", \"http://www.w3.org/1999/02/22-rdf-syntax-ns#type\", \"http://www.w3.org/2000/01/rdf-schema#subClassOf\")) FILTER (str(?p32) NOT IN (\"http://rdfs.org/ns/void#inDataset\", \"http://bio2rdf.org/omim_vocabulary:refers-to\", \"http://bio2rdf.org/omim_vocabulary:article\", \"http://bio2rdf.org/omim_vocabulary:mapping-method\", \"http://www.w3.org/1999/02/22-rdf-syntax-ns#type\", \"http://www.w3.org/2000/01/rdf-schema#subClassOf\")) FILTER (str(?st1) IN (\"http://www.w3.org/1999/02/22-rdf-syntax-ns#type\", \"http://www.w3.org/2000/01/rdf-schema#subClassOf\"))} LIMIT 10\"\"\"\n",
    "query_string = \"\"\"SELECT ?var1  ?var1Label WHERE { \n",
    "    ?var1 <http://www.wikidata.org/prop/direct/P31> <http://www.wikidata.org/entity/Q4423781> .\n",
    "    ?var1 <http://www.w3.org/2000/01/rdf-schema#label>  ?var1Label .\n",
    "    FILTER (  ( (  LANG (  ?var1Label  )  =  \"ru\" ) ) ) .\n",
    "}\n",
    "\"\"\"\n",
    "\n",
    "parsed_query = translateQuery(Query.parseString(query_string, parseAll=True))\n",
    "\n",
    "# print(parsed_query.algebra.p.p.p.expr)\n",
    "\n",
    "# print(parsed_query.algebra.p.p.p.triples)\n",
    "print(parsed_query.algebra)"
   ]
  },
  {
   "cell_type": "code",
   "execution_count": 79,
   "id": "62e8c310-20a9-49f0-bf55-cefedbaa0332",
   "metadata": {},
   "outputs": [
    {
     "name": "stdout",
     "output_type": "stream",
     "text": [
      "[(rdflib.term.Variable('x'), rdflib.term.URIRef('http://data.example/size'), rdflib.term.Variable('size'))]\n"
     ]
    }
   ],
   "source": [
    "# print(parsed_query.algebra)\n",
    "# print(dir(parsed_query.algebra))\n",
    "# print(parsed_query.algebra.p.p.p)\n",
    "# print(parsed_query.algebra.p.p._vars)\n",
    "print(parsed_query.algebra.p.p.p.p.p.p.triples)\n"
   ]
  },
  {
   "cell_type": "code",
   "execution_count": 3,
   "id": "c1832733",
   "metadata": {},
   "outputs": [
    {
     "name": "stdout",
     "output_type": "stream",
     "text": [
      "(rdflib.term.Variable('var1'), rdflib.term.URIRef('http://www.wikidata.org/prop/direct/P31'), rdflib.term.URIRef('http://www.wikidata.org/entity/Q4423781'))\n",
      "(rdflib.term.Variable('var1'), rdflib.term.URIRef('http://www.w3.org/2000/01/rdf-schema#label'), rdflib.term.Variable('var1Label'))\n"
     ]
    }
   ],
   "source": [
    "# We show here that the object to manipulate is different depending on the SPARQL query\n",
    "#query_string = 'SELECT * WHERE { ?s ?p ?o . ?s a ?type . } LIMIT 14'\n",
    "# query_string = 'SELECT * WHERE { ?s ?p ?o . ?s a <https://schema.org/Drug> .} LIMIT 14'\n",
    "\n",
    "parsed_query = translateQuery(Query.parseString(query_string, parseAll=True))\n",
    "\n",
    "# Iterate over the triples defined in the SPARQL query\n",
    "for triple in parsed_query.algebra.p.p.p.triples:\n",
    "    print(triple)\n",
    "    if str(triple[1]) == 'http://www.w3.org/1999/02/22-rdf-syntax-ns#type':\n",
    "        if type(triple[2]) == Variable:\n",
    "            print('Type is a variable to search: ' + triple[2])\n",
    "        if type(triple[2]) == URIRef:\n",
    "            print('Type is defined in the query: ' + triple[2])"
   ]
  },
  {
   "cell_type": "code",
   "execution_count": 4,
   "id": "afbdda89",
   "metadata": {},
   "outputs": [
    {
     "name": "stdout",
     "output_type": "stream",
     "text": [
      "{'prologue': [([], {})],\n",
      " 'request': [{'delete': {'quads': {'triples': [([rdflib.term.URIRef(''), rdflib.term.URIRef('http://www.w3.org/1999/02/22-rdf-syntax-ns#type'), rdflib.term.URIRef('urn:type:A'), rdflib.term.URIRef(''), rdflib.term.URIRef('http://www.w3.org/1999/02/22-rdf-syntax-ns#type'), rdflib.term.URIRef('urn:type:b'), rdflib.term.URIRef(''), rdflib.term.URIRef('urn:p:a'), rdflib.term.Variable('x')], {})]}},\n",
      "              'insert': {'quads': {'triples': [([rdflib.term.URIRef(''), rdflib.term.URIRef('urn:p:a'), literal_{'string': rdflib.term.Literal('hello')}], {})]}},\n",
      "              'where': {'part': [{'triples': [([rdflib.term.URIRef(''), PathAlternative_{'part': [PathSequence_{'part': [PathElt_{'part': rdflib.term.URIRef('urn:p.a')}]}]}, rdflib.term.Variable('x')], {})]}]}}]}\n"
     ]
    }
   ],
   "source": [
    "from rdflib.plugins.sparql.parser import parseUpdate\n",
    "from pprint import pprint\n",
    "\n",
    "qs = '''DELETE {\n",
    "  <> a <urn:type:A> , <urn:type:b> ;\n",
    "    <urn:p:a> ?x .\n",
    "} INSERT {\n",
    "  <> <urn:p:a> \"hello\" .\n",
    "} WHERE {\n",
    "  <> <urn:p.a> ?x .\n",
    "}'''\n",
    "\n",
    "q = parseUpdate(qs)\n",
    "pprint(q)"
   ]
  },
  {
   "cell_type": "code",
   "execution_count": 10,
   "id": "ac2ae740",
   "metadata": {},
   "outputs": [
    {
     "ename": "AttributeError",
     "evalue": "'str' object has no attribute 'p'",
     "output_type": "error",
     "traceback": [
      "\u001b[0;31m---------------------------------------------------------------------------\u001b[0m",
      "\u001b[0;31mAttributeError\u001b[0m                            Traceback (most recent call last)",
      "\u001b[0;32m<ipython-input-10-78da949680b2>\u001b[0m in \u001b[0;36m<module>\u001b[0;34m\u001b[0m\n\u001b[1;32m     13\u001b[0m \u001b[0mparsed_query\u001b[0m \u001b[0;34m=\u001b[0m \u001b[0mparseQuery\u001b[0m\u001b[0;34m(\u001b[0m\u001b[0mquery_string\u001b[0m\u001b[0;34m)\u001b[0m\u001b[0;34m\u001b[0m\u001b[0;34m\u001b[0m\u001b[0m\n\u001b[1;32m     14\u001b[0m \u001b[0;34m\u001b[0m\u001b[0m\n\u001b[0;32m---> 15\u001b[0;31m \u001b[0mprint\u001b[0m\u001b[0;34m(\u001b[0m\u001b[0mparsed_query\u001b[0m\u001b[0;34m.\u001b[0m\u001b[0malgebra\u001b[0m\u001b[0;34m.\u001b[0m\u001b[0mp\u001b[0m\u001b[0;34m.\u001b[0m\u001b[0mp\u001b[0m\u001b[0;34m.\u001b[0m\u001b[0mp\u001b[0m\u001b[0;34m.\u001b[0m\u001b[0mexpr\u001b[0m\u001b[0;34m)\u001b[0m\u001b[0;34m\u001b[0m\u001b[0;34m\u001b[0m\u001b[0m\n\u001b[0m\u001b[1;32m     16\u001b[0m \u001b[0;34m\u001b[0m\u001b[0m\n\u001b[1;32m     17\u001b[0m \u001b[0;31m# print(parsed_query.algebra)\u001b[0m\u001b[0;34m\u001b[0m\u001b[0;34m\u001b[0m\u001b[0;34m\u001b[0m\u001b[0m\n",
      "\u001b[0;31mAttributeError\u001b[0m: 'str' object has no attribute 'p'"
     ]
    }
   ],
   "source": [
    "from rdflib.plugins.sparql.parser import parseQuery\n",
    "\n",
    "\n",
    "query_string = \"\"\"SELECT ?var1  ?var1Label WHERE { \n",
    "    ?var1 <http://www.wikidata.org/prop/direct/P31> <http://www.wikidata.org/entity/Q4423781> .\n",
    "    ?var1 <http://www.w3.org/2000/01/rdf-schema#label>  ?var1Label .\n",
    "    FILTER (  ( (  LANG (  ?var1Label  )  =  \"ru\" ) ) ) .\n",
    "}\n",
    "\"\"\"\n",
    "\n",
    "query_string = 'SELECT * WHERE { ?s ?p ?o . ?s a ?type. ?s ?p ?o  . FILTER(?type = <http://ohoho>) . } LIMIT 14'\n",
    "\n",
    "parsed_query = parseQuery(query_string)\n",
    "\n",
    "print(parsed_query.algebra.p.p.p.expr)\n",
    "\n",
    "# print(parsed_query.algebra)"
   ]
  },
  {
   "cell_type": "code",
   "execution_count": 8,
   "id": "dc098b9a-64bf-4a2e-8db6-6b15603755d9",
   "metadata": {},
   "outputs": [
    {
     "ename": "AttributeError",
     "evalue": "'str' object has no attribute 'p'",
     "output_type": "error",
     "traceback": [
      "\u001b[0;31m---------------------------------------------------------------------------\u001b[0m",
      "\u001b[0;31mAttributeError\u001b[0m                            Traceback (most recent call last)",
      "\u001b[0;32m<ipython-input-8-acbe3729467b>\u001b[0m in \u001b[0;36m<module>\u001b[0;34m\u001b[0m\n\u001b[0;32m----> 1\u001b[0;31m \u001b[0mprint\u001b[0m\u001b[0;34m(\u001b[0m\u001b[0mparsed_query\u001b[0m\u001b[0;34m.\u001b[0m\u001b[0malgebra\u001b[0m\u001b[0;34m.\u001b[0m\u001b[0mp\u001b[0m\u001b[0;34m)\u001b[0m\u001b[0;34m\u001b[0m\u001b[0;34m\u001b[0m\u001b[0m\n\u001b[0m\u001b[1;32m      2\u001b[0m \u001b[0;34m\u001b[0m\u001b[0m\n\u001b[1;32m      3\u001b[0m \u001b[0;31m# for triple in parsed_query.algebra.p.p.p.triples:\u001b[0m\u001b[0;34m\u001b[0m\u001b[0;34m\u001b[0m\u001b[0;34m\u001b[0m\u001b[0m\n\u001b[1;32m      4\u001b[0m \u001b[0;31m#     print(triple)\u001b[0m\u001b[0;34m\u001b[0m\u001b[0;34m\u001b[0m\u001b[0;34m\u001b[0m\u001b[0m\n\u001b[1;32m      5\u001b[0m \u001b[0;31m#     if str(triple[1]) == 'http://www.w3.org/1999/02/22-rdf-syntax-ns#type':\u001b[0m\u001b[0;34m\u001b[0m\u001b[0;34m\u001b[0m\u001b[0;34m\u001b[0m\u001b[0m\n",
      "\u001b[0;31mAttributeError\u001b[0m: 'str' object has no attribute 'p'"
     ]
    }
   ],
   "source": [
    "# for triple in parsed_query.algebra.p.p.p.triples:\n",
    "#     print(triple)\n",
    "#     if str(triple[1]) == 'http://www.w3.org/1999/02/22-rdf-syntax-ns#type':\n",
    "#         if type(triple[2]) == Variable:\n",
    "#             print('Type is a variable to search: ' + triple[2])\n",
    "#         if type(triple[2]) == URIRef:\n",
    "#             print('Type is defined in the query: ' + triple[2])"
   ]
  }
 ],
 "metadata": {
  "kernelspec": {
   "display_name": "Python 3",
   "language": "python",
   "name": "python3"
  },
  "language_info": {
   "codemirror_mode": {
    "name": "ipython",
    "version": 3
   },
   "file_extension": ".py",
   "mimetype": "text/x-python",
   "name": "python",
   "nbconvert_exporter": "python",
   "pygments_lexer": "ipython3",
   "version": "3.8.8"
  }
 },
 "nbformat": 4,
 "nbformat_minor": 5
}
