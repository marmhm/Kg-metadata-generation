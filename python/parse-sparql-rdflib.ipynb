{
 "cells": [
  {
   "cell_type": "markdown",
   "id": "19cafef1-f101-4017-b85e-da3d198b8e9a",
   "metadata": {},
   "source": [
    "You can use a JSON viewer to help visualizing a SPARQL query parsed: http://jsonviewer.stack.hu/\n",
    "\n",
    "Documentation to parse SPARQL queries with RDFLib: https://rdflib.readthedocs.io/en/stable/_modules/rdflib/plugins/sparql/parser.html"
   ]
  },
  {
   "cell_type": "code",
   "execution_count": 1,
   "id": "1ef4c71a-e9dc-4568-93b5-96dcbf67564a",
   "metadata": {},
   "outputs": [
    {
     "name": "stdout",
     "output_type": "stream",
     "text": [
      "CONSTRUCT { ?s ?p ?o . } WHERE { SERVICE <http://bio2rdf.org/sparql> { ?s ?p ?o . } } LIMIT 1\n",
      "\n",
      "\n"
     ]
    }
   ],
   "source": [
    "import pandas as pd\n",
    "import os\n",
    "\n",
    "# print(os.system('pwd'))\n",
    "# print(os.system('ls'))\n",
    "\n",
    "df = pd.read_csv('/home/jovyan/work/graphsummary/sample.csv')\n",
    "\n",
    "\n",
    "for index, row in df.iterrows():\n",
    "    query = row['query']\n",
    "    print(row['query'])\n",
    "    print('\\n')\n",
    "    break"
   ]
  },
  {
   "cell_type": "code",
   "execution_count": 7,
   "id": "46deaef6-9a99-4b85-833a-5595c253ae3c",
   "metadata": {},
   "outputs": [
    {
     "name": "stdout",
     "output_type": "stream",
     "text": [
      "SelectQuery_SelectQuery_{'p': Project_{'p': Filter_{'expr': RelationalExpression_{'expr': Builtin_LANG_{'arg': rdflib.term.Variable('var1Label'), '_vars': {rdflib.term.Variable('var1Label')}}, 'op': '=', 'other': rdflib.term.Literal('ru'), '_vars': set()}, 'p': BGP_{'triples': [(rdflib.term.Variable('var1'), rdflib.term.URIRef('http://www.wikidata.org/prop/direct/P31'), rdflib.term.URIRef('http://www.wikidata.org/entity/Q4423781')), (rdflib.term.Variable('var1'), rdflib.term.URIRef('http://www.w3.org/2000/01/rdf-schema#label'), rdflib.term.Variable('var1Label'))], '_vars': {rdflib.term.Variable('var1Label'), rdflib.term.Variable('var1')}}, '_vars': {rdflib.term.Variable('var1Label'), rdflib.term.Variable('var1')}}, 'PV': [rdflib.term.Variable('var1'), rdflib.term.Variable('var1Label')], '_vars': {rdflib.term.Variable('var1Label'), rdflib.term.Variable('var1')}}, 'datasetClause': None, 'PV': [rdflib.term.Variable('var1'), rdflib.term.Variable('var1Label')], '_vars': {rdflib.term.Variable('var1Label'), rdflib.term.Variable('var1')}}\n"
     ]
    }
   ],
   "source": [
    "from rdflib.plugins.sparql.parser import Query, UpdateUnit\n",
    "from rdflib.plugins.sparql.processor import translateQuery\n",
    "from rdflib import URIRef, Variable\n",
    "# query_string = 'SELECT * WHERE { ?s ?p ?o . ?s a ?type. ?s ?p ?o  . FILTER(?type = <http://ohoho>) . } LIMIT 14'\n",
    "# query_string = 'SELECT * WHERE { ?s ?p ?o . ?s a <https://schema.org/Drug> .} LIMIT 14'\n",
    "# query_string=\"SELECT DISTINCT  ?o ?p2 WHERE{ ?s ?p ?o OPTIONAL{ <http://nonsensical.com/1/1583905344087> ?p2 ?o} }LIMIT   1000\"\n",
    "\n",
    "# query_string = 'SELECT ?var1  ?var1Label WHERE {  ?var1  <http://www.wikidata.org/prop/direct/P31>  <http://www.wikidata.org/entity/Q4423781> . ?var1 <http://www.w3.org/2000/01/rdf-schema#label>  ?var1Label . FILTER (  ( (  LANG (  ?var1Label  )  =  \"ru\" ) ) ) .}'\n",
    "\n",
    "# query_string = \"\"\"SELECT ?var1  ?var1Label WHERE { \n",
    "#     graph ?g {  \n",
    "#         ?var1 <http://www.wikidata.org/prop/direct/P31> <http://www.wikidata.org/entity/Q4423781> .\n",
    "#         ?var1 <http://www.w3.org/2000/01/rdf-schema#label>  ?var1Label .\n",
    "#         FILTER (  ( (  LANG (  ?var1Label  )  =  \"ru\" ) ) ) .\n",
    "#     }\n",
    "# }\n",
    "# \"\"\"\n",
    "query_string = \"\"\"SELECT ?var1  ?var1Label WHERE { \n",
    "    ?var1 <http://www.wikidata.org/prop/direct/P31> <http://www.wikidata.org/entity/Q4423781> .\n",
    "    ?var1 <http://www.w3.org/2000/01/rdf-schema#label>  ?var1Label .\n",
    "    FILTER (  ( (  LANG (  ?var1Label  )  =  \"ru\" ) ) ) .\n",
    "}\n",
    "\"\"\"\n",
    "\n",
    "parsed_query = translateQuery(Query.parseString(query_string, parseAll=True))\n",
    "\n",
    "# print(parsed_query.algebra.p.p.p.expr)\n",
    "\n",
    "# print(parsed_query.algebra.p.p.p.triples)\n",
    "print(parsed_query.algebra)"
   ]
  },
  {
   "cell_type": "code",
   "execution_count": 3,
   "id": "708901a8-7e35-43bb-9227-74ad4890199d",
   "metadata": {},
   "outputs": [
    {
     "name": "stdout",
     "output_type": "stream",
     "text": [
      "(rdflib.term.Variable('var1'), rdflib.term.URIRef('http://www.wikidata.org/prop/direct/P31'), rdflib.term.URIRef('http://www.wikidata.org/entity/Q4423781'))\n",
      "(rdflib.term.Variable('var1'), rdflib.term.URIRef('http://www.w3.org/2000/01/rdf-schema#label'), rdflib.term.Variable('var1Label'))\n"
     ]
    }
   ],
   "source": [
    "# We show here that the object to manipulate is different depending on the SPARQL query\n",
    "#query_string = 'SELECT * WHERE { ?s ?p ?o . ?s a ?type . } LIMIT 14'\n",
    "# query_string = 'SELECT * WHERE { ?s ?p ?o . ?s a <https://schema.org/Drug> .} LIMIT 14'\n",
    "\n",
    "parsed_query = translateQuery(Query.parseString(query_string, parseAll=True))\n",
    "\n",
    "# Iterate over the triples defined in the SPARQL query\n",
    "for triple in parsed_query.algebra.p.p.p.triples:\n",
    "    print(triple)\n",
    "    if str(triple[1]) == 'http://www.w3.org/1999/02/22-rdf-syntax-ns#type':\n",
    "        if type(triple[2]) == Variable:\n",
    "            print('Type is a variable to search: ' + triple[2])\n",
    "        if type(triple[2]) == URIRef:\n",
    "            print('Type is defined in the query: ' + triple[2])\n",
    "            "
   ]
  },
  {
   "cell_type": "code",
   "execution_count": 4,
   "id": "6bec3bc9-c75b-4ab8-962d-fe92ad56a771",
   "metadata": {},
   "outputs": [
    {
     "name": "stdout",
     "output_type": "stream",
     "text": [
      "{'prologue': [([], {})],\n",
      " 'request': [{'delete': {'quads': {'triples': [([rdflib.term.URIRef(''), rdflib.term.URIRef('http://www.w3.org/1999/02/22-rdf-syntax-ns#type'), rdflib.term.URIRef('urn:type:A'), rdflib.term.URIRef(''), rdflib.term.URIRef('http://www.w3.org/1999/02/22-rdf-syntax-ns#type'), rdflib.term.URIRef('urn:type:b'), rdflib.term.URIRef(''), rdflib.term.URIRef('urn:p:a'), rdflib.term.Variable('x')], {})]}},\n",
      "              'insert': {'quads': {'triples': [([rdflib.term.URIRef(''), rdflib.term.URIRef('urn:p:a'), literal_{'string': rdflib.term.Literal('hello')}], {})]}},\n",
      "              'where': {'part': [{'triples': [([rdflib.term.URIRef(''), PathAlternative_{'part': [PathSequence_{'part': [PathElt_{'part': rdflib.term.URIRef('urn:p.a')}]}]}, rdflib.term.Variable('x')], {})]}]}}]}\n"
     ]
    }
   ],
   "source": [
    "from rdflib.plugins.sparql.parser import parseUpdate\n",
    "from pprint import pprint\n",
    "\n",
    "qs = '''DELETE {\n",
    "  <> a <urn:type:A> , <urn:type:b> ;\n",
    "    <urn:p:a> ?x .\n",
    "} INSERT {\n",
    "  <> <urn:p:a> \"hello\" .\n",
    "} WHERE {\n",
    "  <> <urn:p.a> ?x .\n",
    "}'''\n",
    "\n",
    "q = parseUpdate(qs)\n",
    "pprint(q)"
   ]
  },
  {
   "cell_type": "code",
   "execution_count": 9,
   "id": "9143ea97-dd4f-4fa0-ab2e-8149b29f8c5b",
   "metadata": {},
   "outputs": [
    {
     "name": "stdout",
     "output_type": "stream",
     "text": [
      "[[], SelectQuery_{'where': GroupGraphPatternSub_{'part': [TriplesBlock_{'triples': [([rdflib.term.Variable('s'), rdflib.term.Variable('p'), rdflib.term.Variable('o')], {}), ([rdflib.term.Variable('s'), PathAlternative_{'part': [PathSequence_{'part': [PathElt_{'part': rdflib.term.URIRef('http://www.w3.org/1999/02/22-rdf-syntax-ns#type')}]}]}, rdflib.term.Variable('type')], {}), ([rdflib.term.Variable('s'), rdflib.term.Variable('p'), rdflib.term.Variable('o')], {})]}, Filter_{'expr': ConditionalOrExpression_{'expr': ConditionalAndExpression_{'expr': RelationalExpression_{'expr': AdditiveExpression_{'expr': MultiplicativeExpression_{'expr': rdflib.term.Variable('type')}}, 'op': '=', 'other': AdditiveExpression_{'expr': MultiplicativeExpression_{'expr': rdflib.term.URIRef('http://ohoho')}}}}}}]}, 'limitoffset': LimitOffsetClauses_{'limit': rdflib.term.Literal('14', datatype=rdflib.term.URIRef('http://www.w3.org/2001/XMLSchema#integer'))}}]\n"
     ]
    }
   ],
   "source": [
    "from rdflib.plugins.sparql.parser import parseQuery\n",
    "\n",
    "\n",
    "query_string = \"\"\"SELECT ?var1  ?var1Label WHERE { \n",
    "    ?var1 <http://www.wikidata.org/prop/direct/P31> <http://www.wikidata.org/entity/Q4423781> .\n",
    "    ?var1 <http://www.w3.org/2000/01/rdf-schema#label>  ?var1Label .\n",
    "    FILTER (  ( (  LANG (  ?var1Label  )  =  \"ru\" ) ) ) .\n",
    "}\n",
    "\"\"\"\n",
    "\n",
    "query_string = 'SELECT * WHERE { ?s ?p ?o . ?s a ?type. ?s ?p ?o  . FILTER(?type = <http://ohoho>) . } LIMIT 14'\n",
    "\n",
    "parsed_query = parseQuery(query_string)\n",
    "\n",
    "# print(parsed_query.algebra.p.p.p.expr)\n",
    "\n",
    "print(parsed_query)"
   ]
  }
 ],
 "metadata": {
  "kernelspec": {
   "display_name": "Python 3 (ipykernel)",
   "language": "python",
   "name": "python3"
  },
  "language_info": {
   "codemirror_mode": {
    "name": "ipython",
    "version": 3
   },
   "file_extension": ".py",
   "mimetype": "text/x-python",
   "name": "python",
   "nbconvert_exporter": "python",
   "pygments_lexer": "ipython3",
   "version": "3.9.6"
  }
 },
 "nbformat": 4,
 "nbformat_minor": 5
}
