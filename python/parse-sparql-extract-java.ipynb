{
 "cells": [
  {
   "cell_type": "markdown",
   "id": "fa28e6e1",
   "metadata": {},
   "source": [
    "Notebook to parse the JSON file with SPARQL queries parsed by RDF4J"
   ]
  },
  {
   "cell_type": "code",
   "execution_count": 14,
   "id": "8f4bbdbf",
   "metadata": {},
   "outputs": [
    {
     "name": "stdout",
     "output_type": "stream",
     "text": [
      "[[{'predicateValue': '_const_9285ccfc_uri', 'subjectValue': '_const_7a199a7d_uri', 'objectValue': 'var1Label'}, {'predicateValue': '_const_d85f5c59_uri', 'subjectValue': '_const_7a199a7d_uri', 'objectValue': 'var2'}, {'predicateValue': '_const_e5f28ec7_uri', 'subjectValue': '_const_7a199a7d_uri', 'objectValue': 'var3'}, {'predicateValue': '_const_d85f6439_uri', 'subjectValue': '_const_7a199a7d_uri', 'objectValue': 'var4'}], [{'predicateValue': '_const_d85f4df4_uri', 'subjectValue': 'var1', 'objectValue': '_const_746f905f_uri'}, {'predicateValue': '_const_9285ccfc_uri', 'subjectValue': 'var1', 'objectValue': 'var2'}], [{'predicateValue': '_const_d85f4df4_uri', 'subjectValue': 'var1', 'objectValue': 'var2'}], [{'predicateValue': '_const_d85f4df4_uri', 'subjectValue': 'var1', 'objectValue': 'var2'}], [{'predicateValue': '_const_5464d6a7_uri', 'subjectValue': 'var1', 'objectValue': '_const_c01228e2_uri'}, {'predicateValue': '_const_4f8a3cc3_uri', 'subjectValue': 'var1', 'objectValue': 'var2'}], [{'predicateValue': '_const_e5f28efd_uri', 'subjectValue': 'var2', 'objectValue': 'var1'}, {'predicateValue': '_const_e5f28ec6_uri', 'subjectValue': 'var2', 'objectValue': 'var1'}, {'predicateValue': '_const_d85f49af_uri', 'subjectValue': 'var2', 'objectValue': 'var1'}, {'predicateValue': '_const_d85f51b2_uri', 'subjectValue': 'var2', 'objectValue': 'var1'}, {'predicateValue': '_const_d85f5856_uri', 'subjectValue': 'var2', 'objectValue': 'var1'}], [{'predicateValue': '_const_338a6141_uri', 'subjectValue': 'var2', 'objectValue': 'var1'}], [{'predicateValue': '_const_d85f5c93_uri', 'subjectValue': 'var10', 'objectValue': 'var1'}, {'predicateValue': '_const_5464d6a7_uri', 'subjectValue': '_const_c6713b36_uri', 'objectValue': 'var10'}, {'predicateValue': '_const_d85f58f2_uri', 'subjectValue': 'var10', 'objectValue': 'var6'}, {'predicateValue': '_const_d85f6054_uri', 'subjectValue': 'var10', 'objectValue': 'var6'}, {'predicateValue': '_const_338a561f_uri', 'subjectValue': 'var10', 'objectValue': 'var7'}, {'predicateValue': '_const_338a55e2_uri', 'subjectValue': 'var10', 'objectValue': 'var8'}, {'predicateValue': '_const_d85f5913_uri', 'subjectValue': 'var10', 'objectValue': 'var2'}, {'predicateValue': '_const_d85f58f5_uri', 'subjectValue': 'var10', 'objectValue': 'var3'}, {'predicateValue': '_const_338a595e_uri', 'subjectValue': 'var10', 'objectValue': 'var9'}, {'predicateValue': '_const_cf519359_uri', 'subjectValue': 'var10', 'objectValue': 'var11'}, {'predicateValue': '_const_f620fe39_uri', 'subjectValue': 'var11', 'objectValue': 'var4'}, {'predicateValue': '_const_9b3f3d9e_uri', 'subjectValue': 'var11', 'objectValue': 'var5'}, {'predicateValue': '_const_5f26e4dc_uri', 'subjectValue': '_const_d1714322_uri', 'objectValue': '_const_ccc_lit_e2eec718_0'}], [{'predicateValue': '_const_c31e6f8_uri', 'subjectValue': 'var1', 'objectValue': '_const_f822a47a_uri'}]]\n"
     ]
    }
   ],
   "source": [
    "import json\n",
    "import os\n",
    "\n",
    "# print(os.system('pwd'))\n",
    "# print(os.system('ls'))\n",
    "\n",
    "filename = \"patternswiki.json\"\n",
    "\n",
    "# read file\n",
    "with open(filename, 'r') as myfile:\n",
    "    dataStr=myfile.read()\n",
    "\n",
    "# print(dataStr)\n",
    "\n",
    "# parse file\n",
    "obj = json.loads(dataStr)\n",
    "\n",
    "print(obj)"
   ]
  },
  {
   "cell_type": "code",
   "execution_count": 17,
   "id": "a0c028a9-b3a2-4a9f-b3ca-e35bffe8e693",
   "metadata": {},
   "outputs": [
    {
     "ename": "TypeError",
     "evalue": "the JSON object must be str, bytes or bytearray, not TextIOWrapper",
     "output_type": "error",
     "traceback": [
      "\u001b[0;31m---------------------------------------------------------------------------\u001b[0m",
      "\u001b[0;31mTypeError\u001b[0m                                 Traceback (most recent call last)",
      "\u001b[0;32m<ipython-input-17-1dd3790ec880>\u001b[0m in \u001b[0;36m<module>\u001b[0;34m\u001b[0m\n\u001b[1;32m      3\u001b[0m \u001b[0;34m\u001b[0m\u001b[0m\n\u001b[1;32m      4\u001b[0m \u001b[0;32mwith\u001b[0m \u001b[0mopen\u001b[0m\u001b[0;34m(\u001b[0m\u001b[0mfilename\u001b[0m \u001b[0;34m,\u001b[0m \u001b[0;34m'r'\u001b[0m\u001b[0;34m)\u001b[0m \u001b[0;32mas\u001b[0m \u001b[0mjson_data\u001b[0m\u001b[0;34m:\u001b[0m\u001b[0;34m\u001b[0m\u001b[0;34m\u001b[0m\u001b[0m\n\u001b[0;32m----> 5\u001b[0;31m     \u001b[0md\u001b[0m \u001b[0;34m=\u001b[0m \u001b[0mjson\u001b[0m\u001b[0;34m.\u001b[0m\u001b[0mloads\u001b[0m\u001b[0;34m(\u001b[0m\u001b[0mjson_data\u001b[0m\u001b[0;34m)\u001b[0m\u001b[0;34m\u001b[0m\u001b[0;34m\u001b[0m\u001b[0m\n\u001b[0m\u001b[1;32m      6\u001b[0m     \u001b[0mjson_data\u001b[0m\u001b[0;34m.\u001b[0m\u001b[0mclose\u001b[0m\u001b[0;34m(\u001b[0m\u001b[0;34m)\u001b[0m\u001b[0;34m\u001b[0m\u001b[0;34m\u001b[0m\u001b[0m\n\u001b[1;32m      7\u001b[0m     \u001b[0mpprint\u001b[0m\u001b[0;34m(\u001b[0m\u001b[0md\u001b[0m\u001b[0;34m)\u001b[0m\u001b[0;34m\u001b[0m\u001b[0;34m\u001b[0m\u001b[0m\n",
      "\u001b[0;32m/opt/conda/lib/python3.8/json/__init__.py\u001b[0m in \u001b[0;36mloads\u001b[0;34m(s, cls, object_hook, parse_float, parse_int, parse_constant, object_pairs_hook, **kw)\u001b[0m\n\u001b[1;32m    339\u001b[0m     \u001b[0;32melse\u001b[0m\u001b[0;34m:\u001b[0m\u001b[0;34m\u001b[0m\u001b[0;34m\u001b[0m\u001b[0m\n\u001b[1;32m    340\u001b[0m         \u001b[0;32mif\u001b[0m \u001b[0;32mnot\u001b[0m \u001b[0misinstance\u001b[0m\u001b[0;34m(\u001b[0m\u001b[0ms\u001b[0m\u001b[0;34m,\u001b[0m \u001b[0;34m(\u001b[0m\u001b[0mbytes\u001b[0m\u001b[0;34m,\u001b[0m \u001b[0mbytearray\u001b[0m\u001b[0;34m)\u001b[0m\u001b[0;34m)\u001b[0m\u001b[0;34m:\u001b[0m\u001b[0;34m\u001b[0m\u001b[0;34m\u001b[0m\u001b[0m\n\u001b[0;32m--> 341\u001b[0;31m             raise TypeError(f'the JSON object must be str, bytes or bytearray, '\n\u001b[0m\u001b[1;32m    342\u001b[0m                             f'not {s.__class__.__name__}')\n\u001b[1;32m    343\u001b[0m         \u001b[0ms\u001b[0m \u001b[0;34m=\u001b[0m \u001b[0ms\u001b[0m\u001b[0;34m.\u001b[0m\u001b[0mdecode\u001b[0m\u001b[0;34m(\u001b[0m\u001b[0mdetect_encoding\u001b[0m\u001b[0;34m(\u001b[0m\u001b[0ms\u001b[0m\u001b[0;34m)\u001b[0m\u001b[0;34m,\u001b[0m \u001b[0;34m'surrogatepass'\u001b[0m\u001b[0;34m)\u001b[0m\u001b[0;34m\u001b[0m\u001b[0;34m\u001b[0m\u001b[0m\n",
      "\u001b[0;31mTypeError\u001b[0m: the JSON object must be str, bytes or bytearray, not TextIOWrapper"
     ]
    }
   ],
   "source": [
    "import json\n",
    "from pprint import pprint\n",
    "\n",
    "with open(filename , 'r') as json_data:\n",
    "    d = json.loads(json_data)\n",
    "    json_data.close()\n",
    "    pprint(d)"
   ]
  },
  {
   "cell_type": "code",
   "execution_count": null,
   "id": "a2d75ae4-1c78-4f4f-a745-78c4cf163789",
   "metadata": {},
   "outputs": [],
   "source": []
  },
  {
   "cell_type": "code",
   "execution_count": null,
   "id": "dbed4f68-d8c9-4da9-9838-930340f2cffd",
   "metadata": {},
   "outputs": [],
   "source": []
  }
 ],
 "metadata": {
  "kernelspec": {
   "display_name": "Python 3",
   "language": "python",
   "name": "python3"
  },
  "language_info": {
   "codemirror_mode": {
    "name": "ipython",
    "version": 3
   },
   "file_extension": ".py",
   "mimetype": "text/x-python",
   "name": "python",
   "nbconvert_exporter": "python",
   "pygments_lexer": "ipython3",
   "version": "3.8.8"
  }
 },
 "nbformat": 4,
 "nbformat_minor": 5
}
